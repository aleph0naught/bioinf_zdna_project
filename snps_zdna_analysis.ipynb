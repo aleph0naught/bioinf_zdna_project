{
 "cells": [
  {
   "cell_type": "code",
   "execution_count": 14,
   "metadata": {},
   "outputs": [],
   "source": [
    "import numpy as np\n",
    "import pandas as pd\n",
    "import matplotlib.pyplot as plt"
   ]
  },
  {
   "cell_type": "code",
   "execution_count": 15,
   "metadata": {},
   "outputs": [],
   "source": [
    "snps = pd.read_excel('S2_SNP.xlsx', sheet_name='SNP RNA editing site')\n",
    "# snps_n = pd.read_excel('S2_SNP.xlsx', sheet_name='Non-SNP RNA editing site')"
   ]
  },
  {
   "cell_type": "code",
   "execution_count": 16,
   "metadata": {},
   "outputs": [],
   "source": [
    "snps = snps.sort_values(['Chr', 'Position'])\n",
    "snps = snps.drop(['chr1', 'start', 'end'], axis=1)\n",
    "# snps_n = snps_n.sort_values(['Chr', 'Position'])"
   ]
  },
  {
   "cell_type": "code",
   "execution_count": 17,
   "metadata": {},
   "outputs": [
    {
     "data": {
      "text/html": [
       "<div>\n",
       "<style scoped>\n",
       "    .dataframe tbody tr th:only-of-type {\n",
       "        vertical-align: middle;\n",
       "    }\n",
       "\n",
       "    .dataframe tbody tr th {\n",
       "        vertical-align: top;\n",
       "    }\n",
       "\n",
       "    .dataframe thead th {\n",
       "        text-align: right;\n",
       "    }\n",
       "</style>\n",
       "<table border=\"1\" class=\"dataframe\">\n",
       "  <thead>\n",
       "    <tr style=\"text-align: right;\">\n",
       "      <th></th>\n",
       "      <th>Chr</th>\n",
       "      <th>Position</th>\n",
       "      <th>Strand</th>\n",
       "      <th>Reference allele</th>\n",
       "      <th>Alternative allele</th>\n",
       "      <th>Ensembl ID</th>\n",
       "      <th>Gene symbol</th>\n",
       "      <th>Annotation</th>\n",
       "      <th>Alu ?</th>\n",
       "    </tr>\n",
       "  </thead>\n",
       "  <tbody>\n",
       "    <tr>\n",
       "      <th>0</th>\n",
       "      <td>chr1</td>\n",
       "      <td>909242</td>\n",
       "      <td>+</td>\n",
       "      <td>A</td>\n",
       "      <td>G</td>\n",
       "      <td>ENSG00000187583</td>\n",
       "      <td>PLEKHN1</td>\n",
       "      <td>CDS</td>\n",
       "      <td>N</td>\n",
       "    </tr>\n",
       "    <tr>\n",
       "      <th>1</th>\n",
       "      <td>chr1</td>\n",
       "      <td>982444</td>\n",
       "      <td>+</td>\n",
       "      <td>A</td>\n",
       "      <td>G</td>\n",
       "      <td>ENSG00000188157</td>\n",
       "      <td>AGRN</td>\n",
       "      <td>intronic</td>\n",
       "      <td>N</td>\n",
       "    </tr>\n",
       "    <tr>\n",
       "      <th>2</th>\n",
       "      <td>chr1</td>\n",
       "      <td>990417</td>\n",
       "      <td>-</td>\n",
       "      <td>T</td>\n",
       "      <td>C</td>\n",
       "      <td>-</td>\n",
       "      <td>-</td>\n",
       "      <td>antisense</td>\n",
       "      <td>N</td>\n",
       "    </tr>\n",
       "    <tr>\n",
       "      <th>3</th>\n",
       "      <td>chr1</td>\n",
       "      <td>1104418</td>\n",
       "      <td>+</td>\n",
       "      <td>A</td>\n",
       "      <td>C</td>\n",
       "      <td>ENSG00000198976</td>\n",
       "      <td>MIR429</td>\n",
       "      <td>ncRNA</td>\n",
       "      <td>N</td>\n",
       "    </tr>\n",
       "    <tr>\n",
       "      <th>4</th>\n",
       "      <td>chr1</td>\n",
       "      <td>1156131</td>\n",
       "      <td>-</td>\n",
       "      <td>T</td>\n",
       "      <td>C</td>\n",
       "      <td>ENSG00000078808</td>\n",
       "      <td>SDF4</td>\n",
       "      <td>ncRNA</td>\n",
       "      <td>N</td>\n",
       "    </tr>\n",
       "    <tr>\n",
       "      <th>...</th>\n",
       "      <td>...</td>\n",
       "      <td>...</td>\n",
       "      <td>...</td>\n",
       "      <td>...</td>\n",
       "      <td>...</td>\n",
       "      <td>...</td>\n",
       "      <td>...</td>\n",
       "      <td>...</td>\n",
       "      <td>...</td>\n",
       "    </tr>\n",
       "    <tr>\n",
       "      <th>7785</th>\n",
       "      <td>chrX</td>\n",
       "      <td>138633280</td>\n",
       "      <td>+</td>\n",
       "      <td>A</td>\n",
       "      <td>G</td>\n",
       "      <td>ENSG00000101981</td>\n",
       "      <td>F9</td>\n",
       "      <td>CDS</td>\n",
       "      <td>N</td>\n",
       "    </tr>\n",
       "    <tr>\n",
       "      <th>7786</th>\n",
       "      <td>chrX</td>\n",
       "      <td>139873279</td>\n",
       "      <td>-</td>\n",
       "      <td>T</td>\n",
       "      <td>C</td>\n",
       "      <td>-</td>\n",
       "      <td>-</td>\n",
       "      <td>intergenic</td>\n",
       "      <td>N</td>\n",
       "    </tr>\n",
       "    <tr>\n",
       "      <th>7787</th>\n",
       "      <td>chrX</td>\n",
       "      <td>151122248</td>\n",
       "      <td>-</td>\n",
       "      <td>T</td>\n",
       "      <td>C</td>\n",
       "      <td>ENSG00000102287</td>\n",
       "      <td>GABRE</td>\n",
       "      <td>3'UTR</td>\n",
       "      <td>N</td>\n",
       "    </tr>\n",
       "    <tr>\n",
       "      <th>7788</th>\n",
       "      <td>chrX</td>\n",
       "      <td>151122772</td>\n",
       "      <td>+</td>\n",
       "      <td>A</td>\n",
       "      <td>G</td>\n",
       "      <td>-</td>\n",
       "      <td>-</td>\n",
       "      <td>antisense</td>\n",
       "      <td>N</td>\n",
       "    </tr>\n",
       "    <tr>\n",
       "      <th>7789</th>\n",
       "      <td>chrX</td>\n",
       "      <td>151125971</td>\n",
       "      <td>+</td>\n",
       "      <td>A</td>\n",
       "      <td>G</td>\n",
       "      <td>-</td>\n",
       "      <td>-</td>\n",
       "      <td>antisense</td>\n",
       "      <td>N</td>\n",
       "    </tr>\n",
       "  </tbody>\n",
       "</table>\n",
       "<p>7790 rows × 9 columns</p>\n",
       "</div>"
      ],
      "text/plain": [
       "       Chr   Position Strand Reference allele Alternative allele  \\\n",
       "0     chr1     909242      +                A                  G   \n",
       "1     chr1     982444      +                A                  G   \n",
       "2     chr1     990417      -                T                  C   \n",
       "3     chr1    1104418      +                A                  C   \n",
       "4     chr1    1156131      -                T                  C   \n",
       "...    ...        ...    ...              ...                ...   \n",
       "7785  chrX  138633280      +                A                  G   \n",
       "7786  chrX  139873279      -                T                  C   \n",
       "7787  chrX  151122248      -                T                  C   \n",
       "7788  chrX  151122772      +                A                  G   \n",
       "7789  chrX  151125971      +                A                  G   \n",
       "\n",
       "           Ensembl ID Gene symbol  Annotation Alu ?  \n",
       "0     ENSG00000187583     PLEKHN1         CDS     N  \n",
       "1     ENSG00000188157        AGRN    intronic     N  \n",
       "2                   -           -   antisense     N  \n",
       "3     ENSG00000198976      MIR429       ncRNA     N  \n",
       "4     ENSG00000078808        SDF4       ncRNA     N  \n",
       "...               ...         ...         ...   ...  \n",
       "7785  ENSG00000101981          F9         CDS     N  \n",
       "7786                -           -  intergenic     N  \n",
       "7787  ENSG00000102287       GABRE       3'UTR     N  \n",
       "7788                -           -   antisense     N  \n",
       "7789                -           -   antisense     N  \n",
       "\n",
       "[7790 rows x 9 columns]"
      ]
     },
     "execution_count": 17,
     "metadata": {},
     "output_type": "execute_result"
    }
   ],
   "source": [
    "snps"
   ]
  },
  {
   "cell_type": "code",
   "execution_count": 18,
   "metadata": {},
   "outputs": [],
   "source": [
    "def get_bed(snp, reg_size : int):\n",
    "    snp['l_break'] = snps['Position'] - reg_size\n",
    "    snp['r_break'] = snps['Position'] + reg_size\n",
    "    snp['bed'] = snp['Chr'].map(str) + \"\\t\" + snp['l_break'].map(int).map(str) + \"\\t\" \\\n",
    "        + snp['r_break'].map(int).map(str) + \"\\n\"\n",
    "    with open('snp_regs.bed', 'w') as file:\n",
    "        out = ''.join(snp['bed'])\n",
    "        file.write(out)\n",
    "    snp = snp.drop(['bed'], axis=1)\n",
    "    return snp"
   ]
  },
  {
   "cell_type": "code",
   "execution_count": 19,
   "metadata": {},
   "outputs": [],
   "source": [
    "r_list = list([500])\n",
    "list_zform = list()\n",
    "for i in r_list:\n",
    "    snps = get_bed(snps, i)\n",
    "    #DeepZ\n",
    "    !bedtools intersect -a snp_regs.bed -b DeepZ.bed -wo > 'snps-in-zhunt.bed'\n",
    "    f = open('snps-in-zhunt.bed', 'r')\n",
    "    res = [i.split('\\t') for i in f.read().split('\\n')][:-1]\n",
    "    res_left_fr = pd.DataFrame(res)[[1, 6]]\n",
    "    res_left_fr.columns = ['l_break', 'int_size']\n",
    "    res_left_fr['l_break'] = res_left_fr['l_break'].map(int)\n",
    "    res_left_fr = res_left_fr.sort_values('l_break')\n",
    "    beg_int = res_left_fr['l_break']\n",
    "    zhunt_int_snp = snps[snps['l_break'].isin(map(int, beg_int))].sort_values('l_break')\n",
    "    zhunt_int_snp = zhunt_int_snp.merge(res_left_fr, on='l_break')\n",
    "    zhunt_int_snp['int_size'] = zhunt_int_snp['int_size'].map(int)\n",
    "    lt = pd.DataFrame([zhunt_int_snp.groupby('Annotation').count()['Position'], \\\n",
    "            snps.groupby('Annotation').count()['Position']])\n",
    "    t = lt.fillna(0).T.astype(int)\n",
    "    t.columns = ['DeepZ', 'ALL']\n",
    "#     zhunt \n",
    "#     !bedtools intersect -a snp_regs.bed -b zhunt.bed -wo > 'snps-in-zhunt.bed'\n",
    "#     f = open('snps-in-zhunt.bed', 'r')\n",
    "#     res = [i.split('\\t') for i in f.read().split('\\n')][:-1]\n",
    "#     res_left_fr = pd.DataFrame(res)[[1, 6]]\n",
    "#     res_left_fr.columns = ['l_break', 'int_size']\n",
    "#     res_left_fr['l_break'] = res_left_fr['l_break'].map(int)\n",
    "#     res_left_fr = res_left_fr.sort_values('l_break')\n",
    "#     beg_int = res_left_fr['l_break']\n",
    "#     zhunt_int_snp = snps[snps['l_break'].isin(map(int, beg_int))].sort_values('l_break')\n",
    "#     zhunt_int_snp = zhunt_int_snp.merge(res_left_fr, on='l_break')\n",
    "#     zhunt_int_snp['int_size'] = zhunt_int_snp['int_size'].map(int)\n",
    "#     lt = pd.DataFrame([zhunt_int_snp.groupby('Annotation').count()['Position'], \\\n",
    "#             snps.groupby('Annotation').count()['Position']])\n",
    "#     t1 = lt.fillna(0).T.astype(int)\n",
    "#     t1.columns = ['zhunt', 'ALL']\n",
    "#     t1 = t1.reset_index()\n",
    "#     t = t.reset_index()\n",
    "#     res = t.merge(t1)\n",
    "#     res = res.set_index('Annotation')\n",
    "#     res.plot(kind='bar', logy=True, rot=45, title=f'Annotation for {i} SNP region', figsize=(15,10), fontsize=15)"
   ]
  },
  {
   "cell_type": "code",
   "execution_count": 20,
   "metadata": {},
   "outputs": [],
   "source": [
    "# pd.DataFrame([r_list, list_zform]).T.plot(x=0, y=1, kind='line', legend=False, figsize=(10, 7))"
   ]
  },
  {
   "cell_type": "code",
   "execution_count": 21,
   "metadata": {
    "scrolled": true
   },
   "outputs": [
    {
     "data": {
      "text/plain": [
       "Annotation\n",
       "3'UTR         12\n",
       "5'UTR         27\n",
       "CDS           14\n",
       "antisense     69\n",
       "intergenic    10\n",
       "intronic      15\n",
       "ncRNA          9\n",
       "Name: Position, dtype: int64"
      ]
     },
     "execution_count": 21,
     "metadata": {},
     "output_type": "execute_result"
    }
   ],
   "source": [
    "zhunt_int_snp.groupby('Annotation').count()['Position']"
   ]
  },
  {
   "cell_type": "code",
   "execution_count": 22,
   "metadata": {},
   "outputs": [
    {
     "data": {
      "text/plain": [
       "Annotation\n",
       "3'UTR         1716\n",
       "5'UTR           86\n",
       "CDS            527\n",
       "antisense     1733\n",
       "intergenic     660\n",
       "intronic      2657\n",
       "ncRNA          411\n",
       "Name: Position, dtype: int64"
      ]
     },
     "execution_count": 22,
     "metadata": {},
     "output_type": "execute_result"
    }
   ],
   "source": [
    "snps.groupby('Annotation').count()['Position']"
   ]
  },
  {
   "cell_type": "code",
   "execution_count": 23,
   "metadata": {},
   "outputs": [
    {
     "data": {
      "text/plain": [
       "156"
      ]
     },
     "execution_count": 23,
     "metadata": {},
     "output_type": "execute_result"
    }
   ],
   "source": [
    "len(zhunt_int_snp)"
   ]
  },
  {
   "cell_type": "markdown",
   "metadata": {},
   "source": [
    "In Gene and Not In Gene"
   ]
  },
  {
   "cell_type": "code",
   "execution_count": 24,
   "metadata": {},
   "outputs": [
    {
     "data": {
      "text/plain": [
       "77"
      ]
     },
     "execution_count": 24,
     "metadata": {},
     "output_type": "execute_result"
    }
   ],
   "source": [
    "len(zhunt_int_snp[zhunt_int_snp['Gene symbol'] != '-'])"
   ]
  },
  {
   "cell_type": "code",
   "execution_count": 25,
   "metadata": {},
   "outputs": [
    {
     "data": {
      "text/plain": [
       "79"
      ]
     },
     "execution_count": 25,
     "metadata": {},
     "output_type": "execute_result"
    }
   ],
   "source": [
    "len(zhunt_int_snp[zhunt_int_snp['Gene symbol'] == '-'])"
   ]
  },
  {
   "cell_type": "code",
   "execution_count": 26,
   "metadata": {},
   "outputs": [
    {
     "data": {
      "text/plain": [
       "N    139\n",
       "Y     17\n",
       "Name: Alu ?, dtype: int64"
      ]
     },
     "execution_count": 26,
     "metadata": {},
     "output_type": "execute_result"
    }
   ],
   "source": [
    "zhunt_int_snp['Alu ?'].value_counts()"
   ]
  },
  {
   "cell_type": "code",
   "execution_count": 27,
   "metadata": {},
   "outputs": [
    {
     "data": {
      "text/html": [
       "<div>\n",
       "<style scoped>\n",
       "    .dataframe tbody tr th:only-of-type {\n",
       "        vertical-align: middle;\n",
       "    }\n",
       "\n",
       "    .dataframe tbody tr th {\n",
       "        vertical-align: top;\n",
       "    }\n",
       "\n",
       "    .dataframe thead th {\n",
       "        text-align: right;\n",
       "    }\n",
       "</style>\n",
       "<table border=\"1\" class=\"dataframe\">\n",
       "  <thead>\n",
       "    <tr style=\"text-align: right;\">\n",
       "      <th></th>\n",
       "      <th>Chr</th>\n",
       "      <th>Ensembl ID</th>\n",
       "      <th>l_break</th>\n",
       "      <th>r_break</th>\n",
       "    </tr>\n",
       "  </thead>\n",
       "  <tbody>\n",
       "    <tr>\n",
       "      <th>0</th>\n",
       "      <td>chr1</td>\n",
       "      <td>ENSG00000187583</td>\n",
       "      <td>908742</td>\n",
       "      <td>909742</td>\n",
       "    </tr>\n",
       "    <tr>\n",
       "      <th>1</th>\n",
       "      <td>chr1</td>\n",
       "      <td>ENSG00000188157</td>\n",
       "      <td>981944</td>\n",
       "      <td>982944</td>\n",
       "    </tr>\n",
       "    <tr>\n",
       "      <th>2</th>\n",
       "      <td>chr1</td>\n",
       "      <td>ENSG00000198976</td>\n",
       "      <td>1103918</td>\n",
       "      <td>1104918</td>\n",
       "    </tr>\n",
       "    <tr>\n",
       "      <th>3</th>\n",
       "      <td>chr1</td>\n",
       "      <td>ENSG00000215915</td>\n",
       "      <td>1404309</td>\n",
       "      <td>1405309</td>\n",
       "    </tr>\n",
       "    <tr>\n",
       "      <th>4</th>\n",
       "      <td>chr1</td>\n",
       "      <td>ENSG00000160072</td>\n",
       "      <td>1418561</td>\n",
       "      <td>1419561</td>\n",
       "    </tr>\n",
       "    <tr>\n",
       "      <th>...</th>\n",
       "      <td>...</td>\n",
       "      <td>...</td>\n",
       "      <td>...</td>\n",
       "      <td>...</td>\n",
       "    </tr>\n",
       "    <tr>\n",
       "      <th>5392</th>\n",
       "      <td>chrX</td>\n",
       "      <td>ENSG00000005893</td>\n",
       "      <td>119566199</td>\n",
       "      <td>119567199</td>\n",
       "    </tr>\n",
       "    <tr>\n",
       "      <th>5393</th>\n",
       "      <td>chrX</td>\n",
       "      <td>ENSG00000005893</td>\n",
       "      <td>119571041</td>\n",
       "      <td>119572041</td>\n",
       "    </tr>\n",
       "    <tr>\n",
       "      <th>5394</th>\n",
       "      <td>chrX</td>\n",
       "      <td>ENSG00000188706</td>\n",
       "      <td>128949561</td>\n",
       "      <td>128950561</td>\n",
       "    </tr>\n",
       "    <tr>\n",
       "      <th>5395</th>\n",
       "      <td>chrX</td>\n",
       "      <td>ENSG00000123728</td>\n",
       "      <td>131341665</td>\n",
       "      <td>131342665</td>\n",
       "    </tr>\n",
       "    <tr>\n",
       "      <th>5396</th>\n",
       "      <td>chrX</td>\n",
       "      <td>ENSG00000102287</td>\n",
       "      <td>151121748</td>\n",
       "      <td>151122748</td>\n",
       "    </tr>\n",
       "  </tbody>\n",
       "</table>\n",
       "<p>5397 rows × 4 columns</p>\n",
       "</div>"
      ],
      "text/plain": [
       "       Chr       Ensembl ID    l_break    r_break\n",
       "0     chr1  ENSG00000187583     908742     909742\n",
       "1     chr1  ENSG00000188157     981944     982944\n",
       "2     chr1  ENSG00000198976    1103918    1104918\n",
       "3     chr1  ENSG00000215915    1404309    1405309\n",
       "4     chr1  ENSG00000160072    1418561    1419561\n",
       "...    ...              ...        ...        ...\n",
       "5392  chrX  ENSG00000005893  119566199  119567199\n",
       "5393  chrX  ENSG00000005893  119571041  119572041\n",
       "5394  chrX  ENSG00000188706  128949561  128950561\n",
       "5395  chrX  ENSG00000123728  131341665  131342665\n",
       "5396  chrX  ENSG00000102287  151121748  151122748\n",
       "\n",
       "[5397 rows x 4 columns]"
      ]
     },
     "execution_count": 27,
     "metadata": {},
     "output_type": "execute_result"
    }
   ],
   "source": [
    "# res_zhunt = zhunt_int_snp[zhunt_int_snp['Gene symbol'] != '-'].sort_values(\\\n",
    "#                             'int_size').sort_values(['int_size', 'Chr', \\\n",
    "#         'Strand', 'Position']).reset_index().drop(['index'], axis=1)\n",
    "\n",
    "res_zhunt = snps[snps['Gene symbol'] != '-'].sort_values(['Chr', \\\n",
    "        'Strand', 'Position']).reset_index().drop(['index'], axis=1)\n",
    "\n",
    "# (zhunt_int_snp['Strand'] == '+')\n",
    "# (zhunt_int_snp['int_size'] >= zhunt_int_snp['int_size'].mean()) \n",
    "# res_zhunt.to_csv('DeepZ_snp_genes_2000_window.csv')\n",
    "df_n = res_zhunt[['Chr', 'Ensembl ID', 'l_break', 'r_break']]\n",
    "df_n"
   ]
  },
  {
   "cell_type": "code",
   "execution_count": 28,
   "metadata": {},
   "outputs": [
    {
     "data": {
      "text/html": [
       "<div>\n",
       "<style scoped>\n",
       "    .dataframe tbody tr th:only-of-type {\n",
       "        vertical-align: middle;\n",
       "    }\n",
       "\n",
       "    .dataframe tbody tr th {\n",
       "        vertical-align: top;\n",
       "    }\n",
       "\n",
       "    .dataframe thead th {\n",
       "        text-align: right;\n",
       "    }\n",
       "</style>\n",
       "<table border=\"1\" class=\"dataframe\">\n",
       "  <thead>\n",
       "    <tr style=\"text-align: right;\">\n",
       "      <th></th>\n",
       "      <th>Chr</th>\n",
       "      <th>Gene symbol</th>\n",
       "      <th>l_break</th>\n",
       "      <th>r_break</th>\n",
       "    </tr>\n",
       "  </thead>\n",
       "  <tbody>\n",
       "    <tr>\n",
       "      <th>0</th>\n",
       "      <td>chr1</td>\n",
       "      <td>PLEKHN1</td>\n",
       "      <td>908742</td>\n",
       "      <td>909742</td>\n",
       "    </tr>\n",
       "    <tr>\n",
       "      <th>1</th>\n",
       "      <td>chr1</td>\n",
       "      <td>AGRN</td>\n",
       "      <td>981944</td>\n",
       "      <td>982944</td>\n",
       "    </tr>\n",
       "    <tr>\n",
       "      <th>2</th>\n",
       "      <td>chr1</td>\n",
       "      <td>MIR429</td>\n",
       "      <td>1103918</td>\n",
       "      <td>1104918</td>\n",
       "    </tr>\n",
       "    <tr>\n",
       "      <th>3</th>\n",
       "      <td>chr1</td>\n",
       "      <td>-</td>\n",
       "      <td>1209852</td>\n",
       "      <td>1210852</td>\n",
       "    </tr>\n",
       "    <tr>\n",
       "      <th>4</th>\n",
       "      <td>chr1</td>\n",
       "      <td>-</td>\n",
       "      <td>1289908</td>\n",
       "      <td>1290908</td>\n",
       "    </tr>\n",
       "    <tr>\n",
       "      <th>...</th>\n",
       "      <td>...</td>\n",
       "      <td>...</td>\n",
       "      <td>...</td>\n",
       "      <td>...</td>\n",
       "    </tr>\n",
       "    <tr>\n",
       "      <th>7785</th>\n",
       "      <td>chrX</td>\n",
       "      <td>-</td>\n",
       "      <td>128927390</td>\n",
       "      <td>128928390</td>\n",
       "    </tr>\n",
       "    <tr>\n",
       "      <th>7786</th>\n",
       "      <td>chrX</td>\n",
       "      <td>ZDHHC9</td>\n",
       "      <td>128949561</td>\n",
       "      <td>128950561</td>\n",
       "    </tr>\n",
       "    <tr>\n",
       "      <th>7787</th>\n",
       "      <td>chrX</td>\n",
       "      <td>RAP2C</td>\n",
       "      <td>131341665</td>\n",
       "      <td>131342665</td>\n",
       "    </tr>\n",
       "    <tr>\n",
       "      <th>7788</th>\n",
       "      <td>chrX</td>\n",
       "      <td>-</td>\n",
       "      <td>139872779</td>\n",
       "      <td>139873779</td>\n",
       "    </tr>\n",
       "    <tr>\n",
       "      <th>7789</th>\n",
       "      <td>chrX</td>\n",
       "      <td>GABRE</td>\n",
       "      <td>151121748</td>\n",
       "      <td>151122748</td>\n",
       "    </tr>\n",
       "  </tbody>\n",
       "</table>\n",
       "<p>7790 rows × 4 columns</p>\n",
       "</div>"
      ],
      "text/plain": [
       "       Chr Gene symbol    l_break    r_break\n",
       "0     chr1     PLEKHN1     908742     909742\n",
       "1     chr1        AGRN     981944     982944\n",
       "2     chr1      MIR429    1103918    1104918\n",
       "3     chr1           -    1209852    1210852\n",
       "4     chr1           -    1289908    1290908\n",
       "...    ...         ...        ...        ...\n",
       "7785  chrX           -  128927390  128928390\n",
       "7786  chrX      ZDHHC9  128949561  128950561\n",
       "7787  chrX       RAP2C  131341665  131342665\n",
       "7788  chrX           -  139872779  139873779\n",
       "7789  chrX       GABRE  151121748  151122748\n",
       "\n",
       "[7790 rows x 4 columns]"
      ]
     },
     "execution_count": 28,
     "metadata": {},
     "output_type": "execute_result"
    }
   ],
   "source": [
    "res_zhunt = snps.sort_values(['Chr', \\\n",
    "        'Strand', 'Position']).reset_index().drop(['index'], axis=1)\n",
    "\n",
    "df_n = res_zhunt[['Chr', 'Gene symbol', 'l_break', 'r_break']]\n",
    "df_n"
   ]
  },
  {
   "cell_type": "code",
   "execution_count": 29,
   "metadata": {},
   "outputs": [],
   "source": [
    "import requests\n",
    "\n",
    "def get_hg19_seq(chrm1, seq_from1, seq_to1):\n",
    "    rs = list()\n",
    "    for i in range(len(chrm1)):\n",
    "        print(i)\n",
    "        chrm = chrm1[i]\n",
    "        seq_from = seq_from1[i]\n",
    "        seq_to = seq_to1[i]\n",
    "        base_url = \"http://genome.ucsc.edu/cgi-bin/das/hg19/dna?segment=\"\n",
    "        page = requests.get(base_url + str(chrm) + \":\" + str(seq_from) + \",\" + str(seq_to))\n",
    "        contents = []\n",
    "        for line in page.text.split('\\n'):\n",
    "            if \"<\" not in line:\n",
    "                contents.append(line.rstrip())\n",
    "        full_seq = \"\".join(contents).upper()\n",
    "        rs.append(full_seq)\n",
    "        full_seq = \"\"\n",
    "    return rs"
   ]
  },
  {
   "cell_type": "code",
   "execution_count": null,
   "metadata": {},
   "outputs": [],
   "source": [
    "df_n = df_n.assign(seq=lambda x: get_hg19_seq(x.Chr, x.l_break, x.r_break))\n",
    "df_n = df_n.drop_duplicates('Ensembl ID')\n",
    "df_n"
   ]
  },
  {
   "cell_type": "code",
   "execution_count": 31,
   "metadata": {},
   "outputs": [
    {
     "data": {
      "text/html": [
       "<div>\n",
       "<style scoped>\n",
       "    .dataframe tbody tr th:only-of-type {\n",
       "        vertical-align: middle;\n",
       "    }\n",
       "\n",
       "    .dataframe tbody tr th {\n",
       "        vertical-align: top;\n",
       "    }\n",
       "\n",
       "    .dataframe thead th {\n",
       "        text-align: right;\n",
       "    }\n",
       "</style>\n",
       "<table border=\"1\" class=\"dataframe\">\n",
       "  <thead>\n",
       "    <tr style=\"text-align: right;\">\n",
       "      <th></th>\n",
       "      <th>Chr</th>\n",
       "      <th>Gene symbol</th>\n",
       "      <th>l_break</th>\n",
       "      <th>r_break</th>\n",
       "      <th>seq</th>\n",
       "    </tr>\n",
       "  </thead>\n",
       "  <tbody>\n",
       "    <tr>\n",
       "      <th>0</th>\n",
       "      <td>chr1</td>\n",
       "      <td>PLEKHN1</td>\n",
       "      <td>908742</td>\n",
       "      <td>909742</td>\n",
       "      <td>TTCCCACCGTTCCGCACCACTGGTCTCTGTCTCTGGGCCCAGTTGT...</td>\n",
       "    </tr>\n",
       "    <tr>\n",
       "      <th>1</th>\n",
       "      <td>chr1</td>\n",
       "      <td>AGRN</td>\n",
       "      <td>981944</td>\n",
       "      <td>982944</td>\n",
       "      <td>ACTGCCAGCGTCCCCAGGACCACCGTGTGGCCCGTGCTGACGGTGC...</td>\n",
       "    </tr>\n",
       "    <tr>\n",
       "      <th>2</th>\n",
       "      <td>chr1</td>\n",
       "      <td>MIR429</td>\n",
       "      <td>1103918</td>\n",
       "      <td>1104918</td>\n",
       "      <td>AGGGGTCTCATTCCTTCCCCCAGTCAACAAGAACAGGAACTTTGTC...</td>\n",
       "    </tr>\n",
       "    <tr>\n",
       "      <th>3</th>\n",
       "      <td>chr1</td>\n",
       "      <td>-</td>\n",
       "      <td>1209852</td>\n",
       "      <td>1210852</td>\n",
       "      <td>GGAGAGAGCGGTAGGTGGCGGGGCGCTGGGGTGGGACGCTGGGGGC...</td>\n",
       "    </tr>\n",
       "    <tr>\n",
       "      <th>4</th>\n",
       "      <td>chr1</td>\n",
       "      <td>-</td>\n",
       "      <td>1289908</td>\n",
       "      <td>1290908</td>\n",
       "      <td>CGGGGCGGCGTCAGGTACCAGCAAGACCTGCGCCCCGACCCGGGCC...</td>\n",
       "    </tr>\n",
       "    <tr>\n",
       "      <th>...</th>\n",
       "      <td>...</td>\n",
       "      <td>...</td>\n",
       "      <td>...</td>\n",
       "      <td>...</td>\n",
       "      <td>...</td>\n",
       "    </tr>\n",
       "    <tr>\n",
       "      <th>7785</th>\n",
       "      <td>chrX</td>\n",
       "      <td>-</td>\n",
       "      <td>128927390</td>\n",
       "      <td>128928390</td>\n",
       "      <td>AGCCAGGATTCAAGCCCACTGCCTGGCTCCAGCTTAGTGCTAAAGA...</td>\n",
       "    </tr>\n",
       "    <tr>\n",
       "      <th>7786</th>\n",
       "      <td>chrX</td>\n",
       "      <td>ZDHHC9</td>\n",
       "      <td>128949561</td>\n",
       "      <td>128950561</td>\n",
       "      <td>GATTTGCATTTCCTTGGTGATCAATGATGTGATTATTACACATTGC...</td>\n",
       "    </tr>\n",
       "    <tr>\n",
       "      <th>7787</th>\n",
       "      <td>chrX</td>\n",
       "      <td>RAP2C</td>\n",
       "      <td>131341665</td>\n",
       "      <td>131342665</td>\n",
       "      <td>GCTTGCATTAAACAAAAACAACAGTCTCTTTCAGGTTAGAATTTCA...</td>\n",
       "    </tr>\n",
       "    <tr>\n",
       "      <th>7788</th>\n",
       "      <td>chrX</td>\n",
       "      <td>-</td>\n",
       "      <td>139872779</td>\n",
       "      <td>139873779</td>\n",
       "      <td>GACCTTTGAGTAACATGTCAAGAACTGCCATCTTTATGATAGTGGG...</td>\n",
       "    </tr>\n",
       "    <tr>\n",
       "      <th>7789</th>\n",
       "      <td>chrX</td>\n",
       "      <td>GABRE</td>\n",
       "      <td>151121748</td>\n",
       "      <td>151122748</td>\n",
       "      <td>CACTGGGTTACTACAGCCAGGAGAGATTTGATCTTGGGGGCAGTCT...</td>\n",
       "    </tr>\n",
       "  </tbody>\n",
       "</table>\n",
       "<p>7790 rows × 5 columns</p>\n",
       "</div>"
      ],
      "text/plain": [
       "       Chr Gene symbol    l_break    r_break  \\\n",
       "0     chr1     PLEKHN1     908742     909742   \n",
       "1     chr1        AGRN     981944     982944   \n",
       "2     chr1      MIR429    1103918    1104918   \n",
       "3     chr1           -    1209852    1210852   \n",
       "4     chr1           -    1289908    1290908   \n",
       "...    ...         ...        ...        ...   \n",
       "7785  chrX           -  128927390  128928390   \n",
       "7786  chrX      ZDHHC9  128949561  128950561   \n",
       "7787  chrX       RAP2C  131341665  131342665   \n",
       "7788  chrX           -  139872779  139873779   \n",
       "7789  chrX       GABRE  151121748  151122748   \n",
       "\n",
       "                                                    seq  \n",
       "0     TTCCCACCGTTCCGCACCACTGGTCTCTGTCTCTGGGCCCAGTTGT...  \n",
       "1     ACTGCCAGCGTCCCCAGGACCACCGTGTGGCCCGTGCTGACGGTGC...  \n",
       "2     AGGGGTCTCATTCCTTCCCCCAGTCAACAAGAACAGGAACTTTGTC...  \n",
       "3     GGAGAGAGCGGTAGGTGGCGGGGCGCTGGGGTGGGACGCTGGGGGC...  \n",
       "4     CGGGGCGGCGTCAGGTACCAGCAAGACCTGCGCCCCGACCCGGGCC...  \n",
       "...                                                 ...  \n",
       "7785  AGCCAGGATTCAAGCCCACTGCCTGGCTCCAGCTTAGTGCTAAAGA...  \n",
       "7786  GATTTGCATTTCCTTGGTGATCAATGATGTGATTATTACACATTGC...  \n",
       "7787  GCTTGCATTAAACAAAAACAACAGTCTCTTTCAGGTTAGAATTTCA...  \n",
       "7788  GACCTTTGAGTAACATGTCAAGAACTGCCATCTTTATGATAGTGGG...  \n",
       "7789  CACTGGGTTACTACAGCCAGGAGAGATTTGATCTTGGGGGCAGTCT...  \n",
       "\n",
       "[7790 rows x 5 columns]"
      ]
     },
     "execution_count": 31,
     "metadata": {},
     "output_type": "execute_result"
    }
   ],
   "source": [
    "df_n"
   ]
  },
  {
   "cell_type": "code",
   "execution_count": 32,
   "metadata": {},
   "outputs": [
    {
     "data": {
      "text/plain": [
       "'TTCCCACCGTTCCGCACCACTGGTCTCTGTCTCTGGGCCCAGTTGTCCTGGAGCCACCCAGAGGCCTCTTGCACAGAGAAGGGGTGGCCTAGGCTGTTTCTAGCCGAGAAGCCCATTTCTCCCACCTCTGCCCTGCAGCTGCACAGGCTGAGCCTGGAGAGCAGCCCAGATGCCCCTGACCACACTTCGGAAACATCACACTCGCCCCTCTATGCCGACCCCTACACACCACCCGCCACCTCCCACCGCAGGGTCACAGATGTCCGGGGCCTGGAGGAGGTCAGGCCCCTGCTGGGTGACAGAAAGGGTGGGAGGTGCCTGCAGCCTGAGGCTGGGGAGGTCTAGACCGTGCGTCTCACCCTGGGGTCTGGGGCTGCCCCAAGCCTGAGGTCTGTTCAGGCTCTGATGGGAGGTTGAGGTTCTGGGGGCCCCTGGCTGCCACCCAGGCCCCAGCCCTGGCTCTCCCTGCAGTTCCTCAGTGCCATGCAGAGTGCACGTGGACCCACGCCCTCGAGCCCACTCCCCTCGGTGCCTGTGTCTGTGCCTGCCTCTGACCCTCGCTCCTGCTCCTCCGGCCCCGCTGGCCCCTACTTGCTCTCCAAGAAGGGAGCCCTGCAGTCCAGAGCCGCTCAGAGACACCGGGGCTCAGCCAAGGATGGGGGGCCGCAGCCCCCAGACGCCCCTCAGCTTGTGAGTAGCAGCCCCCACGCCCGTGTGCCCCGGGCTCCGGGCTGGCCGGGGGTCTGGTGTGGGGCCTCTTGGGACTCTGAGGGAGCAGGGAGGGAAACAGGAGGACGGGGGCAGATGGAGGCCAGGGGGGCCAGTAGGGAGTTGGGGAGATGGGACTGGGGAGGGAGAGCAGGGGGACATGGGGGGCTGCACAGTGACAGGCCGCCTCCAAGCTCCCTGCCTGGGGCTGTGCCCGGCTCTCAGACTTGCGGTTTGGGGTTCCAGGTCTCCTCTGCCAGGGAAGGTTCGCCCGAACCCTGGCTGCCTCTGAC'"
      ]
     },
     "execution_count": 32,
     "metadata": {},
     "output_type": "execute_result"
    }
   ],
   "source": [
    "df_n['seq'][0]"
   ]
  },
  {
   "cell_type": "code",
   "execution_count": 40,
   "metadata": {},
   "outputs": [],
   "source": [
    "df_n.to_csv('ALL_SNP_seq.csv')"
   ]
  },
  {
   "cell_type": "code",
   "execution_count": 41,
   "metadata": {},
   "outputs": [],
   "source": [
    "def func(name, name1, seq):\n",
    "    with open(f'./ALL_seq_1000/{str(name)}_{str(name1)}.fa', 'w+') as f:\n",
    "        f.write('>' + str(name) + '_' + str(name1) + '\\n')\n",
    "        f.write(seq + '\\n')"
   ]
  },
  {
   "cell_type": "code",
   "execution_count": 42,
   "metadata": {},
   "outputs": [],
   "source": [
    "def func1(name, seq, f):\n",
    "        f.write('>' + name + '\\n')\n",
    "        f.write(seq + '\\n')"
   ]
  },
  {
   "cell_type": "code",
   "execution_count": 43,
   "metadata": {},
   "outputs": [],
   "source": [
    "def func2(name, name1, seq, f):\n",
    "        f.write('>' + str(name) + '_' + str(name1) + '\\n')\n",
    "        f.write(seq + '\\n')"
   ]
  },
  {
   "cell_type": "code",
   "execution_count": 44,
   "metadata": {},
   "outputs": [],
   "source": [
    "with open(f'./ALL_seq_1000.fa', 'w+') as f:\n",
    "    df_n.apply(lambda x: func2(x['Gene symbol'], x['l_break'], x['seq'], f), axis=1)"
   ]
  },
  {
   "cell_type": "code",
   "execution_count": 45,
   "metadata": {},
   "outputs": [
    {
     "data": {
      "text/plain": [
       "0       None\n",
       "1       None\n",
       "2       None\n",
       "3       None\n",
       "4       None\n",
       "        ... \n",
       "7785    None\n",
       "7786    None\n",
       "7787    None\n",
       "7788    None\n",
       "7789    None\n",
       "Length: 7790, dtype: object"
      ]
     },
     "execution_count": 45,
     "metadata": {},
     "output_type": "execute_result"
    }
   ],
   "source": [
    "df_n.apply(lambda x: func(x['Gene symbol'], x['l_break'], x['seq']), axis=1)"
   ]
  },
  {
   "cell_type": "code",
   "execution_count": null,
   "metadata": {},
   "outputs": [],
   "source": [
    "for i in df_n[['Gene symbol', 'l_break']].iterrows():\n",
    "    s = str(i[1]['Gene symbol']) + '_' + str(i[1]['l_break']) + '.fa'\n",
    "    !./zhunt_alan 8 6 8 ./ALL_seq_1000/{s}"
   ]
  },
  {
   "cell_type": "code",
   "execution_count": null,
   "metadata": {},
   "outputs": [],
   "source": [
    "with open('ALL_SNPs_zscore_200', 'w+') as f:\n",
    "    for i in df_n[['Gene symbol', 'l_break']].iterrows():\n",
    "        s = str(i[1]['Gene symbol']) + '_' + str(i[1]['l_break']) + '.fa'\n",
    "        df_z = pd.read_table(f'./ALL_seq_1000/{s}.Z-SCORE', sep=r'\\s{1,}', names=[1,2,3,4,5,6,7,8])\n",
    "        df_z = df_z.fillna(0)\n",
    "        if sum(df_z[6] > 200) != 0:\n",
    "            f.write('>' + str(i[1]['Gene symbol']) + '_' + str(i[1]['l_break'] + 500) + '\\t' + str(max(df_z[6])) + '\\n')\n"
   ]
  },
  {
   "cell_type": "code",
   "execution_count": 147,
   "metadata": {},
   "outputs": [
    {
     "data": {
      "text/plain": [
       "0.20089858793324775"
      ]
     },
     "execution_count": 147,
     "metadata": {},
     "output_type": "execute_result"
    }
   ],
   "source": [
    "# процентов снипов содержат участки с zscore > 200\n",
    "# (NEW with 1000 gap)\n",
    "3441 / 7790\n",
    "\n",
    "# >PTTG1IP_46273010\t60248.626161\n",
    "# >PMPCA_139317917\t63591.236745\n",
    "# >PMPCA_139317921\t63591.236745\n",
    "# >ZNF852_44551920\t66470.780662\n",
    "# >ZNF26_133562966\t68804.913166\n",
    "# >-_61519931\t71225.210852\n",
    "# >-_88117914\t80064.906768\n",
    "# >FAM13A-AS1_89649341\t102091.882534\n",
    "# >PLEKHF2_96145993\t120360.666014\n",
    "# >-_38513504\t158050.762443\n",
    "# >YPEL2_57477922\t184276.922761\n",
    "# >SMAD4_48610324\t4044150.905303"
   ]
  },
  {
   "cell_type": "code",
   "execution_count": 182,
   "metadata": {},
   "outputs": [],
   "source": [
    "with open('./top_10/SMAD4.fa', 'w+') as f:\n",
    "    t = df_n[(df_n['Gene symbol'] == 'SMAD4') & (df_n['l_break'] == 48610324)]\n",
    "    f.write('>' + t['Gene symbol'].iloc[0] + '_' + str(t['l_break'].iloc[0]) + '\\n')\n",
    "    f.write(t['seq'].iloc[0])\n",
    "    "
   ]
  },
  {
   "cell_type": "code",
   "execution_count": 187,
   "metadata": {},
   "outputs": [],
   "source": [
    "for i in ['PTTG1IP.fa', 'PMPCA.fa', 'ZNF852.fa', 'ZNF26.fa', '-_61519931.fa', '-_88117914.fa', \\\n",
    "         'FAM13A-AS1.fa', 'PLEKHF2.fa', '-_38513504.fa', 'YPEL2.fa', 'SMAD4.fa']:\n",
    "    !cd top_10_fold && RNAfold -p -d2 --noLP < ../top_10/{i} > {i.split('.')[0]}"
   ]
  },
  {
   "cell_type": "code",
   "execution_count": 188,
   "metadata": {},
   "outputs": [],
   "source": [
    "# for i in df_n['Ensembl ID']: \n",
    "for i in ['PTTG1IP_46273010', 'PMPCA_139317917', 'ZNF852_44551920',\\\n",
    "          'ZNF26_133562966', '-_61519931', '-_88117914', \\\n",
    "         'FAM13A-AS1_89649341', 'PLEKHF2_96145993', '-_38513504', 'YPEL2_57477922', 'SMAD4_48610324']:\n",
    "    !perl relplot.pl -p top_10_fold/{i}_ss.ps top_10_fold/{i}_dp.ps > top_10_fold/{i}_rss.ps\n",
    "    !rm top_10_fold/{i}_ss.ps\n",
    "    !rm top_10_fold/{i}_dp.ps\n",
    "    !rm zhunt_fold/{i}"
   ]
  },
  {
   "cell_type": "code",
   "execution_count": 82,
   "metadata": {},
   "outputs": [
    {
     "data": {
      "text/html": [
       "<div>\n",
       "<style scoped>\n",
       "    .dataframe tbody tr th:only-of-type {\n",
       "        vertical-align: middle;\n",
       "    }\n",
       "\n",
       "    .dataframe tbody tr th {\n",
       "        vertical-align: top;\n",
       "    }\n",
       "\n",
       "    .dataframe thead th {\n",
       "        text-align: right;\n",
       "    }\n",
       "</style>\n",
       "<table border=\"1\" class=\"dataframe\">\n",
       "  <thead>\n",
       "    <tr style=\"text-align: right;\">\n",
       "      <th></th>\n",
       "      <th>3</th>\n",
       "    </tr>\n",
       "    <tr>\n",
       "      <th>2</th>\n",
       "      <th></th>\n",
       "    </tr>\n",
       "  </thead>\n",
       "  <tbody>\n",
       "    <tr>\n",
       "      <th>binding (GO:0005488)</th>\n",
       "      <td>8</td>\n",
       "    </tr>\n",
       "    <tr>\n",
       "      <th>structural molecule activity (GO:0005198)</th>\n",
       "      <td>1</td>\n",
       "    </tr>\n",
       "    <tr>\n",
       "      <th>molecular function regulator (GO:0098772)</th>\n",
       "      <td>6</td>\n",
       "    </tr>\n",
       "    <tr>\n",
       "      <th>catalytic activity (GO:0003824)</th>\n",
       "      <td>5</td>\n",
       "    </tr>\n",
       "    <tr>\n",
       "      <th>transporter activity (GO:0005215)</th>\n",
       "      <td>1</td>\n",
       "    </tr>\n",
       "  </tbody>\n",
       "</table>\n",
       "</div>"
      ],
      "text/plain": [
       "                                           3\n",
       "2                                           \n",
       "binding (GO:0005488)                       8\n",
       "structural molecule activity (GO:0005198)  1\n",
       "molecular function regulator (GO:0098772)  6\n",
       "catalytic activity (GO:0003824)            5\n",
       "transporter activity (GO:0005215)          1"
      ]
     },
     "execution_count": 82,
     "metadata": {},
     "output_type": "execute_result"
    }
   ],
   "source": [
    "chart = pd.read_table('pantherChart.txt', names=[1,2,3,4,5])\n",
    "chart = chart[[2,3]]\n",
    "chart = chart.set_index(2)\n",
    "chart"
   ]
  },
  {
   "cell_type": "code",
   "execution_count": 84,
   "metadata": {},
   "outputs": [
    {
     "data": {
      "text/plain": [
       "<AxesSubplot:title={'center':'Panter GO-Slim Molecular Function for DeepZ Genes'}>"
      ]
     },
     "execution_count": 84,
     "metadata": {},
     "output_type": "execute_result"
    },
    {
     "data": {
      "image/png": "[encoded data removed]",
      "text/plain": [
       "<Figure size 2100x1400 with 1 Axes>"
      ]
     },
     "metadata": {},
     "output_type": "display_data"
    }
   ],
   "source": [
    "fig = plt.figure(dpi=140)\n",
    "chart.plot(kind='pie', y=3, title=f'Panter GO-Slim Molecular Function for DeepZ Genes', figsize=(15,10), fontsize=10, legend=False,\\\n",
    "          ylabel='', autopct='%1.1f%%', ax=plt.gca())"
   ]
  },
  {
   "cell_type": "code",
   "execution_count": null,
   "metadata": {},
   "outputs": [],
   "source": []
  }
 ],
 "metadata": {
  "kernelspec": {
   "display_name": "Python 3",
   "language": "python",
   "name": "python3"
  },
  "language_info": {
   "codemirror_mode": {
    "name": "ipython",
    "version": 3
   },
   "file_extension": ".py",
   "mimetype": "text/x-python",
   "name": "python",
   "nbconvert_exporter": "python",
   "pygments_lexer": "ipython3",
   "version": "3.9.0"
  }
 },
 "nbformat": 4,
 "nbformat_minor": 4
}
